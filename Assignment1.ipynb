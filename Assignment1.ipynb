{
  "nbformat": 4,
  "nbformat_minor": 0,
  "metadata": {
    "colab": {
      "name": "Copy of Untitled4.ipynb",
      "provenance": [],
      "collapsed_sections": []
    },
    "kernelspec": {
      "name": "python3",
      "display_name": "Python 3"
    }
  },
  "cells": [
    {
      "cell_type": "markdown",
      "metadata": {
        "id": "MYxpVWej9k9G",
        "colab_type": "text"
      },
      "source": [
        "Write a program which will find all such numbers which are divisible by 7 but are not a multiple\n",
        "of 5, between 2000 and 3200 (both included). The numbers obtained should be printed in a\n",
        "comma-separated sequence on a single line."
      ]
    },
    {
      "cell_type": "code",
      "metadata": {
        "id": "V-pXbowHwozV",
        "colab_type": "code",
        "colab": {}
      },
      "source": [
        ""
      ],
      "execution_count": 0,
      "outputs": []
    },
    {
      "cell_type": "code",
      "metadata": {
        "colab_type": "code",
        "outputId": "b374610a-75b5-43c0-8f39-1fb1ebe78049",
        "id": "EvtNPwN19uJw",
        "colab": {
          "base_uri": "https://localhost:8080/",
          "height": 55
        }
      },
      "source": [
        "\n",
        "x=list(range(2000,3200))\n",
        "y=[]\n",
        "for i in x:\n",
        "  if i%7==0 and i%5!=0:\n",
        "    y.append(i)\n",
        "    \n",
        "print(y)"
      ],
      "execution_count": 0,
      "outputs": [
        {
          "output_type": "stream",
          "text": [
            "[2002, 2009, 2016, 2023, 2037, 2044, 2051, 2058, 2072, 2079, 2086, 2093, 2107, 2114, 2121, 2128, 2142, 2149, 2156, 2163, 2177, 2184, 2191, 2198, 2212, 2219, 2226, 2233, 2247, 2254, 2261, 2268, 2282, 2289, 2296, 2303, 2317, 2324, 2331, 2338, 2352, 2359, 2366, 2373, 2387, 2394, 2401, 2408, 2422, 2429, 2436, 2443, 2457, 2464, 2471, 2478, 2492, 2499, 2506, 2513, 2527, 2534, 2541, 2548, 2562, 2569, 2576, 2583, 2597, 2604, 2611, 2618, 2632, 2639, 2646, 2653, 2667, 2674, 2681, 2688, 2702, 2709, 2716, 2723, 2737, 2744, 2751, 2758, 2772, 2779, 2786, 2793, 2807, 2814, 2821, 2828, 2842, 2849, 2856, 2863, 2877, 2884, 2891, 2898, 2912, 2919, 2926, 2933, 2947, 2954, 2961, 2968, 2982, 2989, 2996, 3003, 3017, 3024, 3031, 3038, 3052, 3059, 3066, 3073, 3087, 3094, 3101, 3108, 3122, 3129, 3136, 3143, 3157, 3164, 3171, 3178, 3192, 3199]\n"
          ],
          "name": "stdout"
        }
      ]
    },
    {
      "cell_type": "code",
      "metadata": {
        "id": "ZhEphNic9vHx",
        "colab_type": "code",
        "colab": {}
      },
      "source": [
        ""
      ],
      "execution_count": 0,
      "outputs": []
    },
    {
      "cell_type": "markdown",
      "metadata": {
        "id": "U7GvMV-_-a9b",
        "colab_type": "text"
      },
      "source": [
        "Write a Python program to accept the user's first and last name and then getting them printed in\n",
        "the the reverse order with a space between first name and last name."
      ]
    },
    {
      "cell_type": "code",
      "metadata": {
        "id": "Vw-ergXgB6XK",
        "colab_type": "code",
        "outputId": "a4d54182-667a-4bcf-9bc4-8761302dd9d7",
        "colab": {
          "base_uri": "https://localhost:8080/",
          "height": 72
        }
      },
      "source": [
        "firstname=input('enter your first name: ')\n",
        "lastname=input('enter your last name: ')\n",
        "print(lastname,' '+firstname)"
      ],
      "execution_count": 5,
      "outputs": [
        {
          "output_type": "stream",
          "text": [
            "enter your first name: sarbjeet\n",
            "enter your last name: singh\n",
            "singh  sarbjeet\n"
          ],
          "name": "stdout"
        }
      ]
    },
    {
      "cell_type": "markdown",
      "metadata": {
        "id": "jhVi9pvwCoKH",
        "colab_type": "text"
      },
      "source": [
        "Write a Python program to find the volume of a sphere with diameter 12 cm.\n",
        "Formula: V=4/3 * π * r 3"
      ]
    },
    {
      "cell_type": "code",
      "metadata": {
        "id": "M99PFP1HCsjd",
        "colab_type": "code",
        "outputId": "212260a2-d306-4250-b04c-6dce3d6f26ae",
        "colab": {
          "base_uri": "https://localhost:8080/",
          "height": 72
        }
      },
      "source": [
        "r = int(input('enter radius in cm: '))\n",
        "pie= int(input('enter pie value: '))\n",
        "Volume=4/3*pie*r*r*r\n",
        "print(Volume)"
      ],
      "execution_count": 0,
      "outputs": [
        {
          "output_type": "stream",
          "text": [
            "enter radius in cm: 6\n",
            "enter pie value: 3\n",
            "864.0\n"
          ],
          "name": "stdout"
        }
      ]
    },
    {
      "cell_type": "markdown",
      "metadata": {
        "id": "NCYBAIh-GXkQ",
        "colab_type": "text"
      },
      "source": [
        "Write a program which accepts a sequence of comma-separated numbers from console and\n",
        "generate a list."
      ]
    },
    {
      "cell_type": "code",
      "metadata": {
        "id": "jrJoOgsBGhke",
        "colab_type": "code",
        "outputId": "93d0971c-9d90-473d-8bd4-3c48e4603e6e",
        "colab": {
          "base_uri": "https://localhost:8080/",
          "height": 135
        }
      },
      "source": [
        "a=input('enter some comma separated numbers: ')\n",
        "b=[]\n",
        "for i in a:\n",
        "  for i !=',':\n",
        "  \n",
        "    b.append(i)\n",
        "b\n"
      ],
      "execution_count": 13,
      "outputs": [
        {
          "output_type": "error",
          "ename": "SyntaxError",
          "evalue": "ignored",
          "traceback": [
            "\u001b[0;36m  File \u001b[0;32m\"<ipython-input-13-34181dd9e3c6>\"\u001b[0;36m, line \u001b[0;32m4\u001b[0m\n\u001b[0;31m    for i !=',':\u001b[0m\n\u001b[0m           ^\u001b[0m\n\u001b[0;31mSyntaxError\u001b[0m\u001b[0;31m:\u001b[0m invalid syntax\n"
          ]
        }
      ]
    },
    {
      "cell_type": "code",
      "metadata": {
        "id": "uoNx7_SiHJVi",
        "colab_type": "code",
        "colab": {}
      },
      "source": [
        ""
      ],
      "execution_count": 0,
      "outputs": []
    },
    {
      "cell_type": "code",
      "metadata": {
        "colab_type": "code",
        "outputId": "d643388d-c1cc-4c73-f69d-49a423fb768f",
        "id": "y7EgSkE3IIpl",
        "colab": {
          "base_uri": "https://localhost:8080/",
          "height": 54
        }
      },
      "source": [
        "a=int(input('enter five digits'))\n",
        "type(a)"
      ],
      "execution_count": 0,
      "outputs": [
        {
          "output_type": "stream",
          "text": [
            "enter five digits1\n"
          ],
          "name": "stdout"
        },
        {
          "output_type": "execute_result",
          "data": {
            "text/plain": [
              "int"
            ]
          },
          "metadata": {
            "tags": []
          },
          "execution_count": 96
        }
      ]
    },
    {
      "cell_type": "markdown",
      "metadata": {
        "id": "HH3zgQ8nJuP6",
        "colab_type": "text"
      },
      "source": [
        "Create the below pattern using nested for loop in Python."
      ]
    },
    {
      "cell_type": "code",
      "metadata": {
        "id": "MODl2DpJJxSo",
        "colab_type": "code",
        "colab": {
          "base_uri": "https://localhost:8080/",
          "height": 201
        },
        "outputId": "69e6a39c-346a-4da4-9b3a-4c7d6537e2d1"
      },
      "source": [
        "a=('*')\n",
        "for i in range(6):\n",
        "  print (a*i)\n",
        "for i in range (4,0,-1):\n",
        "  print(a*i)\n",
        "\n",
        "\n"
      ],
      "execution_count": 7,
      "outputs": [
        {
          "output_type": "stream",
          "text": [
            "\n",
            "*\n",
            "**\n",
            "***\n",
            "****\n",
            "*****\n",
            "****\n",
            "***\n",
            "**\n",
            "*\n"
          ],
          "name": "stdout"
        }
      ]
    },
    {
      "cell_type": "markdown",
      "metadata": {
        "id": "jSO-xdckINrp",
        "colab_type": "text"
      },
      "source": [
        "Write a Python program to reverse a word after accepting the input from the user."
      ]
    },
    {
      "cell_type": "code",
      "metadata": {
        "id": "yitvxaPQIQFW",
        "colab_type": "code",
        "outputId": "372bbc22-4430-4a16-bf09-a2d8bf158e2b",
        "colab": {
          "base_uri": "https://localhost:8080/",
          "height": 72
        }
      },
      "source": [
        "m=input('enter a word')\n",
        "print(m)\n",
        "m[::-1]\n"
      ],
      "execution_count": 0,
      "outputs": [
        {
          "output_type": "stream",
          "text": [
            "enter a wordmother nature \n",
            "mother nature \n"
          ],
          "name": "stdout"
        },
        {
          "output_type": "execute_result",
          "data": {
            "text/plain": [
              "' erutan rehtom'"
            ]
          },
          "metadata": {
            "tags": []
          },
          "execution_count": 20
        }
      ]
    },
    {
      "cell_type": "code",
      "metadata": {
        "id": "bZE-PpjTIjEd",
        "colab_type": "code",
        "colab": {}
      },
      "source": [
        ""
      ],
      "execution_count": 0,
      "outputs": []
    }
  ]
}